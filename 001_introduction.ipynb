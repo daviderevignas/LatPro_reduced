{
 "cells": [
  {
   "cell_type": "markdown",
   "id": "9e5a75ec",
   "metadata": {},
   "source": [
    "# Introductory Notebook\n",
    "\n",
    "This notebook introduces the main functionalities of the software in this folder.\n",
    "\n",
    "The general workflow is:\n",
    "- set relevant variables in a jupiter notebook\n",
    "- call some compiled fortran subroutine from the same notebook\n",
    "- analyze the outputs in the same notebook\n",
    "\n"
   ]
  },
  {
   "cell_type": "markdown",
   "id": "fd01a454",
   "metadata": {},
   "source": [
    "### Compilation of the Fortran code\n",
    "In the next cell we:\n",
    "- go to the fortran_src/ folder which contains fortran modules\n",
    "- use a specific conda environment ('simple_env') to compile the refolding_many_temperatures.f90 fortran source\n",
    "- move the compiled executable into compiled_python_modules/\n",
    "- get back to the current folder"
   ]
  },
  {
   "cell_type": "code",
   "execution_count": null,
   "id": "51c26cc2",
   "metadata": {},
   "outputs": [
    {
     "name": "stdout",
     "output_type": "stream",
     "text": [
      "/Users/daviderevignas/scientific_projects/scientific_code/LatPro_reduced/fortran_src\n"
     ]
    }
   ],
   "source": [
    "%cd fortran_src\n",
    "!conda run -n simple_env \\\n",
    "    python3 -m numpy.f2py -c -m \\\n",
    "    refolding_many_temperatures \\\n",
    "    refolding_many_temperatures.f90 --opt='-O3'\n",
    "%mv refolding_many_temperatures*.so ../compiled_python_modules/\n",
    "%cd ..\n"
   ]
  },
  {
   "cell_type": "code",
   "execution_count": null,
   "id": "6f3f2188",
   "metadata": {},
   "outputs": [],
   "source": []
  }
 ],
 "metadata": {
  "kernelspec": {
   "display_name": "simple_env",
   "language": "python",
   "name": "python3"
  },
  "language_info": {
   "codemirror_mode": {
    "name": "ipython",
    "version": 3
   },
   "file_extension": ".py",
   "mimetype": "text/x-python",
   "name": "python",
   "nbconvert_exporter": "python",
   "pygments_lexer": "ipython3",
   "version": "3.9.15"
  }
 },
 "nbformat": 4,
 "nbformat_minor": 5
}
